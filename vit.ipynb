{
 "cells": [
  {
   "cell_type": "code",
   "execution_count": 6,
   "metadata": {
    "collapsed": true,
    "pycharm": {
     "name": "#%%\n"
    }
   },
   "outputs": [],
   "source": [
    "import torch\n",
    "import torch.nn\n",
    "import torch.nn.functional as F"
   ]
  },
  {
   "cell_type": "code",
   "execution_count": 21,
   "outputs": [
    {
     "name": "stdout",
     "output_type": "stream",
     "text": [
      "torch.Size([1, 3, 8, 8])\n",
      "torch.Size([1, 4, 8])\n"
     ]
    }
   ],
   "source": [
    "def image2embedding_naive(image, patch_size, weight):\n",
    "    \"\"\"\n",
    "    通过分块的方法对图片embedding\n",
    "    :param image: Batch * C * H * W\n",
    "    :param patch_size: 每一个块的大小\n",
    "    :param weight: 线性变换的权重，将二维图像映射到embedding的维度\n",
    "    :return: img_patch_embedding\n",
    "    \"\"\"\n",
    "    # F.unfold 可以取出当前卷积的区域flatten后的结果，可以用来分块\n",
    "    # shape: torch.Size([1, 4, 48])\n",
    "    patch = F.unfold(image, patch_size, stride=patch_size).transpose(-1, -2)\n",
    "    # 将patch与weight相乘，使用@\n",
    "    # torch.Size([1, 4, 48]) @ torch.Size([48 * 8]) = torch.Size([1, 4, 8])\n",
    "    img_patch_embedding = patch @ weight\n",
    "    return img_patch_embedding\n",
    "\n",
    "# 测试代码\n",
    "# 生成一张图\n",
    "bs, channel, img_h, img_w = 1, 3, 8, 8\n",
    "img = torch.randn(bs, channel, img_h, img_w)\n",
    "# 定义patch_size, model_dim\n",
    "patch_size = 4\n",
    "model_dim = 8\n",
    "# 定义weight\n",
    "weight = torch.randn(patch_size*patch_size*3, 8)\n",
    "# 得到\n",
    "img_patch_embedding = image2embedding_naive(img, patch_size, weight)"
   ],
   "metadata": {
    "collapsed": false,
    "pycharm": {
     "name": "#%%\n"
    }
   }
  },
  {
   "cell_type": "code",
   "execution_count": null,
   "outputs": [],
   "source": [
    "def image2embedding_conv():\n",
    "    pass"
   ],
   "metadata": {
    "collapsed": false,
    "pycharm": {
     "name": "#%%\n"
    }
   }
  }
 ],
 "metadata": {
  "kernelspec": {
   "name": "pycharm-5f788ab",
   "language": "python",
   "display_name": "PyCharm (Diffusion_transformer)"
  },
  "language_info": {
   "codemirror_mode": {
    "name": "ipython",
    "version": 2
   },
   "file_extension": ".py",
   "mimetype": "text/x-python",
   "name": "python",
   "nbconvert_exporter": "python",
   "pygments_lexer": "ipython2",
   "version": "2.7.6"
  }
 },
 "nbformat": 4,
 "nbformat_minor": 0
}